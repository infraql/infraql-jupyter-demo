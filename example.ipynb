{
 "cells": [
  {
   "cell_type": "code",
   "execution_count": null,
   "id": "c3c2fed4",
   "metadata": {},
   "outputs": [],
   "source": [
    "import pandas as pd\n",
    "from pyinfraql import InfraQL\n",
    "iql = InfraQL(keyfilepath='/keys/infraql-demo.json')"
   ]
  },
  {
   "cell_type": "code",
   "execution_count": null,
   "id": "c891981d",
   "metadata": {},
   "outputs": [],
   "source": [
    "iql_query = \"SELECT id, name FROM compute.instances WHERE project = 'infraql-demo' AND zone = 'australia-southeast1-a'\"\n",
    "results = iql.execute(iql_query)"
   ]
  },
  {
   "cell_type": "code",
   "execution_count": null,
   "id": "50fb43ea",
   "metadata": {},
   "outputs": [],
   "source": [
    "pd.read_json(results)"
   ]
  }
 ],
 "metadata": {
  "kernelspec": {
   "display_name": "Python 3",
   "language": "python",
   "name": "python3"
  },
  "language_info": {
   "codemirror_mode": {
    "name": "ipython",
    "version": 3
   },
   "file_extension": ".py",
   "mimetype": "text/x-python",
   "name": "python",
   "nbconvert_exporter": "python",
   "pygments_lexer": "ipython3",
   "version": "3.9.2"
  }
 },
 "nbformat": 4,
 "nbformat_minor": 5
}